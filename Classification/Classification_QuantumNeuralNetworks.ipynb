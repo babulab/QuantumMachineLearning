{
 "cells": [
  {
   "cell_type": "markdown",
   "metadata": {},
   "source": [
    "# Classification with Quantum Computing and Deep Neural Networks\n",
    "\n",
    "In this notebook, we explore multiclass classification using Qiskit Machine Learning integrated with PyTorch. Unlike many tutorials that focus on binary classification in quantum computing, our approach extends to multiclass classification, providing a more realistic model for complex, real-world scenarios. We enhance our exploration by experimenting with hybrid models—combining Quantum Neural Networks (QNNs) and Deep Neural Networks (DNNs)—to achieve robust and potentially more accurate classification results.\n",
    "\n",
    "The dataset used is the well-known Iris flower dataset, frequently employed in machine learning for its straightforward yet effective demonstration capabilities. While not overly complex, this dataset serves as a suitable foundation for illustrating the power of quantum and hybrid approaches.\n",
    "\n",
    "The notebook is divided into three main sections:\n",
    "\n",
    "\n",
    "- Section 1: Introduction to Classification with Qiskit Machine Learning <br>\n",
    "    Here, we provide a brief guide to the Qiskit Machine Learning library. We implement a Variational Quantum Classifier (VQC) alongside a classical Support Vector Machine (SVM) as a baseline for performance comparison.\n",
    "- Section 2: Advanced Hybrid Modeling with QNNs <br>\n",
    " This section dives into two of Qiskit Machine Learning’s primary modules—EstimatorQNN and SamplerQNN. We use each to construct fully quantum classifiers as well as hybrid models, demonstrating both the pure quantum approach and the benefits of hybrid quantum-classical systems.\n",
    "- Section 3: Results and Analysis <br>\n",
    "    In this section, we compare the performance of different models used for multiclass classification."
   ]
  },
  {
   "cell_type": "code",
   "execution_count": 1,
   "metadata": {},
   "outputs": [],
   "source": [
    "#Import required packages\n",
    "from sklearn.datasets import load_iris\n",
    "from sklearn.preprocessing import MinMaxScaler\n",
    "import numpy as np\n",
    "import pandas as pd\n",
    "import seaborn as sns\n",
    "from sklearn.model_selection import train_test_split\n",
    "from sklearn.svm import SVC\n",
    "\n",
    "from sklearn.metrics import accuracy_score, f1_score\n",
    "from qiskit.circuit.library import ZZFeatureMap,PauliFeatureMap\n",
    "from qiskit.circuit.library import RealAmplitudes\n",
    "import time\n",
    "from qiskit_machine_learning.algorithms.classifiers import VQC\n",
    "from qiskit_machine_learning.neural_networks import SamplerQNN, EstimatorQNN\n",
    "from qiskit_machine_learning.connectors import TorchConnector\n",
    "\n",
    "from qiskit_algorithms.optimizers import COBYLA, L_BFGS_B\n",
    "from qiskit.primitives import StatevectorSampler\n",
    "from IPython.display import clear_output\n",
    "from matplotlib import pyplot as plt\n",
    "from qiskit import QuantumCircuit\n",
    "import torch\n",
    "\n",
    "from torch.optim import LBFGS, Adam\n",
    "from torch.nn import Linear\n"
   ]
  },
  {
   "cell_type": "markdown",
   "metadata": {},
   "source": [
    "## Section 1: Introduction to Classification with Qiskit Machine Learning\n",
    "\n",
    "Classification is a fundamental task in Machine Learning (ML), with a wide range of applications. Many introductory ML tutorial start with the Iris dataset, a classic choice fo its multivariate, multivariate structure, making it ideal for foundational learning. <br>\n",
    "In the context of Quantum Computing (QC), many tutorials remain focused on simpler, binary problems du to the current limitation of QC technology. Here, out aim is to bridge this gap by applying quantum techniques to more realistic, multiclass problems. <br>\n",
    "To establish a performance baseline, we first implement a classical Support Vector Machine (SVM) for the classification task. Then, we extend this approach to the quantum realm by performing the same task with Qiskit's Variational Quantum Classifier (VQC), offering a direct comparison between classical and quantum models.\n",
    "\n",
    "This section is based heavily on the Qiskit basic tutorial"
   ]
  },
  {
   "cell_type": "code",
   "execution_count": 2,
   "metadata": {},
   "outputs": [
    {
     "data": {
      "text/html": [
       "<div>\n",
       "<style scoped>\n",
       "    .dataframe tbody tr th:only-of-type {\n",
       "        vertical-align: middle;\n",
       "    }\n",
       "\n",
       "    .dataframe tbody tr th {\n",
       "        vertical-align: top;\n",
       "    }\n",
       "\n",
       "    .dataframe thead th {\n",
       "        text-align: right;\n",
       "    }\n",
       "</style>\n",
       "<table border=\"1\" class=\"dataframe\">\n",
       "  <thead>\n",
       "    <tr style=\"text-align: right;\">\n",
       "      <th></th>\n",
       "      <th>sepal length (cm)</th>\n",
       "      <th>sepal width (cm)</th>\n",
       "      <th>petal length (cm)</th>\n",
       "      <th>petal width (cm)</th>\n",
       "    </tr>\n",
       "  </thead>\n",
       "  <tbody>\n",
       "    <tr>\n",
       "      <th>0</th>\n",
       "      <td>5.1</td>\n",
       "      <td>3.5</td>\n",
       "      <td>1.4</td>\n",
       "      <td>0.2</td>\n",
       "    </tr>\n",
       "    <tr>\n",
       "      <th>1</th>\n",
       "      <td>4.9</td>\n",
       "      <td>3.0</td>\n",
       "      <td>1.4</td>\n",
       "      <td>0.2</td>\n",
       "    </tr>\n",
       "    <tr>\n",
       "      <th>2</th>\n",
       "      <td>4.7</td>\n",
       "      <td>3.2</td>\n",
       "      <td>1.3</td>\n",
       "      <td>0.2</td>\n",
       "    </tr>\n",
       "    <tr>\n",
       "      <th>3</th>\n",
       "      <td>4.6</td>\n",
       "      <td>3.1</td>\n",
       "      <td>1.5</td>\n",
       "      <td>0.2</td>\n",
       "    </tr>\n",
       "    <tr>\n",
       "      <th>4</th>\n",
       "      <td>5.0</td>\n",
       "      <td>3.6</td>\n",
       "      <td>1.4</td>\n",
       "      <td>0.2</td>\n",
       "    </tr>\n",
       "  </tbody>\n",
       "</table>\n",
       "</div>"
      ],
      "text/plain": [
       "   sepal length (cm)  sepal width (cm)  petal length (cm)  petal width (cm)\n",
       "0                5.1               3.5                1.4               0.2\n",
       "1                4.9               3.0                1.4               0.2\n",
       "2                4.7               3.2                1.3               0.2\n",
       "3                4.6               3.1                1.5               0.2\n",
       "4                5.0               3.6                1.4               0.2"
      ]
     },
     "execution_count": 2,
     "metadata": {},
     "output_type": "execute_result"
    }
   ],
   "source": [
    "#Import data\n",
    "data = load_iris()\n",
    "\n",
    "df_features = pd.DataFrame(data.data, columns=data.feature_names)\n",
    "df_target = pd.DataFrame(data.target)\n",
    "\n",
    "df_features.head(5)\n"
   ]
  },
  {
   "cell_type": "markdown",
   "metadata": {},
   "source": [
    "We normalize the data"
   ]
  },
  {
   "cell_type": "code",
   "execution_count": 3,
   "metadata": {},
   "outputs": [],
   "source": [
    "train_X, test_X, train_y, test_y = train_test_split(\n",
    "    data.data, data.target, train_size=0.8, shuffle=True )\n",
    "\n",
    "scaler = MinMaxScaler()\n",
    "X_train_scaled = scaler.fit_transform(train_X)\n",
    "X_test_scaled = scaler.transform(test_X)"
   ]
  },
  {
   "cell_type": "markdown",
   "metadata": {},
   "source": [
    "##### 1.1 Classical clasification with SVM"
   ]
  },
  {
   "cell_type": "code",
   "execution_count": 4,
   "metadata": {},
   "outputs": [
    {
     "name": "stdout",
     "output_type": "stream",
     "text": [
      "Results SVM\n",
      "accuracy train: 0.9833\n",
      "f1 score train: 0.9833\n",
      "accuracy test: 0.9667\n",
      "f1 score test: 0.9664\n"
     ]
    }
   ],
   "source": [
    "#Train and test SvM\n",
    "svc = SVC()\n",
    "_ = svc.fit(X_train_scaled, train_y) \n",
    "\n",
    "train_pred = svc.predict(X_train_scaled)\n",
    "test_pred = svc.predict(X_test_scaled)\n",
    "\n",
    "\n",
    "print('Results SVM')\n",
    "print(f'accuracy train: { accuracy_score(train_pred, train_y):.4f}')\n",
    "print(f'f1 score train: { f1_score(train_pred, train_y, average='weighted'):.4f}')\n",
    "\n",
    "print(f'accuracy test: { accuracy_score(test_pred, test_y):.4f}')\n",
    "print(f'f1 score test: { f1_score(test_pred, test_y, average='weighted'):.4f}')\n"
   ]
  },
  {
   "cell_type": "markdown",
   "metadata": {},
   "source": [
    "#### 1.2  Variational Quantum Classifier (VQC) using Sampler"
   ]
  },
  {
   "cell_type": "code",
   "execution_count": 5,
   "metadata": {},
   "outputs": [],
   "source": [
    "num_features = train_X.shape[1] #num features\n",
    "feature_map = ZZFeatureMap(feature_dimension=num_features, reps=1)\n",
    "#feature_map.decompose().draw(output=\"mpl\", style=\"clifford\") \n",
    "ansatz = RealAmplitudes(num_qubits=num_features, reps=1) #ansatz\n",
    "\n",
    "optimizer = L_BFGS_B()\n",
    "sampler = StatevectorSampler()"
   ]
  },
  {
   "cell_type": "code",
   "execution_count": 6,
   "metadata": {},
   "outputs": [],
   "source": [
    "#Function to graph performance\n",
    "objective_func_vals = []\n",
    "plt.rcParams[\"figure.figsize\"] = (12, 6)\n",
    "def callback_graph(weights, obj_func_eval):\n",
    "    clear_output(wait=True)\n",
    "    objective_func_vals.append(obj_func_eval)\n",
    "    plt.title(\"Objective function value against iteration\")\n",
    "    plt.xlabel(\"Iteration\")\n",
    "    plt.ylabel(\"Objective function value\")\n",
    "    plt.plot(range(len(objective_func_vals)), objective_func_vals)\n",
    "    plt.show()\n",
    "    return objective_func_vals"
   ]
  },
  {
   "cell_type": "code",
   "execution_count": 7,
   "metadata": {},
   "outputs": [
    {
     "name": "stderr",
     "output_type": "stream",
     "text": [
      "No gradient function provided, creating a gradient function. If your Sampler requires transpilation, please provide a pass manager.\n"
     ]
    },
    {
     "name": "stdout",
     "output_type": "stream",
     "text": [
      "Training time: 97 seconds\n"
     ]
    }
   ],
   "source": [
    "\n",
    "vqc = VQC(\n",
    "    sampler=sampler,\n",
    "    feature_map=feature_map,\n",
    "    ansatz=ansatz,\n",
    "    optimizer=optimizer,\n",
    "    callback=callback_graph,\n",
    ")\n",
    "\n",
    "# clear objective value history\n",
    "objective_func_vals = []\n",
    "start = time.time()\n",
    "vqc.fit(X_train_scaled, train_y)\n",
    "elapsed = time.time() - start\n",
    "\n",
    "print(f\"Training time: {round(elapsed)} seconds\")"
   ]
  },
  {
   "cell_type": "code",
   "execution_count": 8,
   "metadata": {},
   "outputs": [
    {
     "name": "stdout",
     "output_type": "stream",
     "text": [
      "Results VQC\n",
      "accuracy train: 0.5667\n",
      "f1 score train: 0.6871\n",
      "accuracy test: 0.5000\n",
      "f1 score test: 0.5778\n"
     ]
    }
   ],
   "source": [
    "train_pred = vqc.predict(X_train_scaled)\n",
    "test_pred = vqc.predict(X_test_scaled)\n",
    "\n",
    "print('Results VQC')\n",
    "print(f'accuracy train: { accuracy_score(train_pred, train_y):.4f}')\n",
    "print(f'f1 score train: { f1_score(train_pred, train_y, average='weighted'):.4f}')\n",
    "\n",
    "print(f'accuracy test: { accuracy_score(test_pred, test_y):.4f}')\n",
    "print(f'f1 score test: { f1_score(test_pred, test_y, average='weighted'):.4f}')\n"
   ]
  },
  {
   "cell_type": "markdown",
   "metadata": {},
   "source": [
    "## Section 2: Advanced Hybrid Modeling with QNNs \n",
    "In this section, we explore advanced classification techniques using two core modeules from Qiskit Machine Learning: SamplerQNN and EstimatorQNN. Using each module, we develop both fully quantum models and hybrid models that integrate classical neural network layers. This approach allows us to leverage the strengths of both quantum and classical computing, aiming to enhance model performance and robustness for the classification task."
   ]
  },
  {
   "cell_type": "code",
   "execution_count": 9,
   "metadata": {},
   "outputs": [],
   "source": [
    "#Convert data in tensor\n",
    "X_tensor_train_scaled = torch.Tensor(X_train_scaled)\n",
    "y_tensor_train = (torch.Tensor(train_y)).to(torch.int64)\n",
    "X_tensor_test_scaled = torch.Tensor(X_test_scaled)\n",
    "y_tensor_test = (torch.Tensor(test_y)).to(torch.int64)\n",
    "num_features = train_X.shape[1]\n"
   ]
  },
  {
   "cell_type": "code",
   "execution_count": 10,
   "metadata": {},
   "outputs": [],
   "source": [
    "#Define the EstimatorQNN\n",
    "def create_estimator_qnn(feature_map, num_features):\n",
    "\n",
    "    #feature_map.decompose().draw(output=\"mpl\", style=\"clifford\")\n",
    "    ansatz = RealAmplitudes(num_qubits=num_features)\n",
    "\n",
    "    qc = QuantumCircuit(num_features)\n",
    "    qc.compose(feature_map, inplace=True)\n",
    "    qc.compose(ansatz, inplace=True)\n",
    "    #qc.draw(output=\"mpl\", style=\"clifford\")\n",
    "    qnn_estimator = EstimatorQNN(\n",
    "            circuit=qc, \n",
    "            input_params=feature_map.parameters,\n",
    "            weight_params=ansatz.parameters,\n",
    "            input_gradients=True,\n",
    "            \n",
    "            )\n",
    "\n",
    "    return qnn_estimator"
   ]
  },
  {
   "cell_type": "markdown",
   "metadata": {},
   "source": [
    "#### 2.1  EstimatorQNN\n",
    "\n",
    "Since this is a multiclass problem and EstimatorQNN returns only a single output value, we create a separate EstimatorQNN for each class. The output values are then combined and passed through a Softmax function to produce the final class probabilities."
   ]
  },
  {
   "cell_type": "code",
   "execution_count": 11,
   "metadata": {},
   "outputs": [
    {
     "name": "stdout",
     "output_type": "stream",
     "text": [
      "Total QNN Parameters: 48\n",
      "Total Parameters: 48\n"
     ]
    },
    {
     "name": "stderr",
     "output_type": "stream",
     "text": [
      "/tmp/ipykernel_58584/1425307799.py:11: DeprecationWarning: V1 Primitives are deprecated as of qiskit-machine-learning 0.8.0 and will be removed no sooner than 4 months after the release date. Use V2 primitives for continued compatibility and support.\n",
      "  qnn_estimator = EstimatorQNN(\n"
     ]
    }
   ],
   "source": [
    "#Quantum Classifier using only QNN\n",
    "class QuantumClassifier(torch.nn.Module):\n",
    "    def __init__(self, qnn_class_0, qnn_class_1, qnn_class_2):\n",
    "        super(QuantumClassifier, self).__init__()\n",
    "        # Attach the QNN to Torch via TorchConnector\n",
    "        self.qnn_0 = TorchConnector(qnn_class_0)\n",
    "        self.qnn_1 = TorchConnector(qnn_class_1)\n",
    "        self.qnn_2 = TorchConnector(qnn_class_2)\n",
    "\n",
    "\n",
    "    def forward(self, x):\n",
    "        # Get output for each class QNN\n",
    "        output_0 = self.qnn_0(x)\n",
    "        output_1 = self.qnn_1(x)\n",
    "        output_2 = self.qnn_2(x)\n",
    "\n",
    "        quantum_output = torch.cat([output_0, output_1, output_2], dim=-1)\n",
    "\n",
    "        # Softmax for n-class classification output\n",
    "        return torch.nn.functional.softmax(quantum_output, dim=-1)\n",
    "\n",
    "# We create one qnn for each class and we create different feature mapping\n",
    "feature_map_0 = ZZFeatureMap(feature_dimension=num_features, reps=1, parameter_prefix='θ0')\n",
    "feature_map_1 = PauliFeatureMap(feature_dimension=num_features, reps=1, parameter_prefix='θ1', paulis=[\"Z\", \"YY\"])\n",
    "feature_map_2 = PauliFeatureMap(feature_dimension=num_features, reps=1, parameter_prefix='θ2', paulis=[\"Z\", \"XX\"])\n",
    "\n",
    "model_qnn_0 = create_estimator_qnn(feature_map_0, num_features)\n",
    "model_qnn_1 = create_estimator_qnn(feature_map_1, num_features)\n",
    "model_qnn_2 = create_estimator_qnn(feature_map_2, num_features)\n",
    "model_estimator_qnn = QuantumClassifier(model_qnn_0, model_qnn_1, model_qnn_2)\n",
    "\n",
    "total_qnn_params = (model_qnn_0.num_weights + model_qnn_1.num_weights + model_qnn_2.num_weights)\n",
    "total_params = sum(p.numel() for p in model_estimator_qnn.parameters())\n",
    "\n",
    "print(f\"Total QNN Parameters: {total_qnn_params}\")\n",
    "print(f\"Total Parameters: {total_params}\")\n"
   ]
  },
  {
   "cell_type": "code",
   "execution_count": 12,
   "metadata": {},
   "outputs": [
    {
     "name": "stdout",
     "output_type": "stream",
     "text": [
      "Epoch 0: Loss = 1.10721755027771\n",
      "Epoch 10: Loss = 0.9831417202949524\n",
      "Epoch 20: Loss = 0.966661274433136\n",
      "Epoch 30: Loss = 0.9567421078681946\n",
      "Epoch 40: Loss = 0.95396488904953\n",
      "Epoch 50: Loss = 0.9509469270706177\n",
      "Epoch 60: Loss = 0.9492893815040588\n",
      "Epoch 70: Loss = 0.9482223987579346\n",
      "Epoch 80: Loss = 0.9476493000984192\n",
      "Epoch 90: Loss = 0.947311520576477\n"
     ]
    }
   ],
   "source": [
    "loss_function = torch.nn.CrossEntropyLoss()\n",
    "optimizer = Adam(model_estimator_qnn.parameters(), lr=0.1)\n",
    "\n",
    "# Training loop\n",
    "num_epochs = 100\n",
    "loss_train_estimator = []\n",
    "metrics = {'acc_train_estimator':[],\n",
    "           'acc_test_estimator':[]}\n",
    "for epoch in range(num_epochs):\n",
    "    model_estimator_qnn.train()\n",
    "    # Zero the gradients\n",
    "    optimizer.zero_grad()\n",
    "\n",
    "    # Forward pass\n",
    "    outputs = model_estimator_qnn(X_tensor_train_scaled)\n",
    "    loss = loss_function(outputs, y_tensor_train)\n",
    "\n",
    "    # Backward pass and optimize\n",
    "    loss.backward()\n",
    "    optimizer.step()\n",
    "    loss_train_estimator.append(loss.item())\n",
    "    if epoch % 10 == 0:\n",
    "        print(f\"Epoch {epoch}: Loss = {loss.item()}\")\n",
    "\n",
    "    model_estimator_qnn.eval()\n",
    "    output_train = model_estimator_qnn(X_tensor_train_scaled)\n",
    "    train_pred = torch.argmax(output_train, dim=1)\n",
    "    metrics['acc_train_estimator'].append(accuracy_score(train_pred, train_y))\n",
    "\n",
    "    output_test = model_estimator_qnn(X_tensor_test_scaled)\n",
    "    test_pred = torch.argmax(output_test, dim=1)\n",
    "    metrics['acc_test_estimator'].append(accuracy_score(test_pred, test_y))\n"
   ]
  },
  {
   "cell_type": "code",
   "execution_count": 13,
   "metadata": {},
   "outputs": [
    {
     "name": "stdout",
     "output_type": "stream",
     "text": [
      "EstimatorQNN\n",
      "Accuracy train: 0.8583\n",
      "F1 score train: 0.8612\n",
      "Accuracy test: 0.7000\n",
      "F1 score test: 0.7120\n"
     ]
    }
   ],
   "source": [
    "#Evaluate the model\n",
    "model_estimator_qnn.eval()\n",
    "\n",
    "output_train = model_estimator_qnn(X_tensor_train_scaled)\n",
    "train_pred = torch.argmax(output_train, dim=1)\n",
    "\n",
    "output_test = model_estimator_qnn(X_tensor_test_scaled)\n",
    "test_pred = torch.argmax(output_test, dim=1)\n",
    "\n",
    "\n",
    "metrics_estimator = {'accuracy_train': accuracy_score(train_pred, train_y),\n",
    "                          'accuracy_test': accuracy_score(test_pred, test_y),\n",
    "                          'f1_score_train': f1_score(train_pred, train_y, average='weighted'),\n",
    "                          'f1_score_test': f1_score(test_pred, test_y, average='weighted'),\n",
    "                          }\n",
    "\n",
    "print('EstimatorQNN')\n",
    "\n",
    "print(f'Accuracy train: { metrics_estimator['accuracy_train']:.4f}')\n",
    "print(f'F1 score train: { metrics_estimator['f1_score_train']:.4f}')\n",
    "\n",
    "print(f'Accuracy test: { metrics_estimator['accuracy_test']:.4f}')\n",
    "print(f'F1 score test: { metrics_estimator['f1_score_test']:.4f}')"
   ]
  },
  {
   "cell_type": "markdown",
   "metadata": {},
   "source": [
    "#### 2.2  EstimatorQNN + Classical Neural Network\n",
    "\n",
    "This model combines the EstimatorQNN with classical neural network layers. Similar to the previous model, we use a separate EstimatorQNN for each class. However, in this version, we add ReLU layers after concatenating the QNN outputs, followed by a final Softmax layer to produce the class probabilities."
   ]
  },
  {
   "cell_type": "code",
   "execution_count": 14,
   "metadata": {},
   "outputs": [
    {
     "name": "stdout",
     "output_type": "stream",
     "text": [
      "Total QNN Parameters: 48\n",
      "Total Parameters: 208\n"
     ]
    },
    {
     "name": "stderr",
     "output_type": "stream",
     "text": [
      "/tmp/ipykernel_58584/3892588629.py:11: DeprecationWarning: V1 Primitives are deprecated as of qiskit-machine-learning 0.8.0 and will be removed no sooner than 4 months after the release date. Use V2 primitives for continued compatibility and support.\n",
      "  qnn_estimator = EstimatorQNN(\n"
     ]
    }
   ],
   "source": [
    "#Define the EstimatorQNN\n",
    "def create_estimator_qnn(feature_map, num_features):\n",
    "\n",
    "    #feature_map.decompose().draw(output=\"mpl\", style=\"clifford\")\n",
    "    ansatz = RealAmplitudes(num_qubits=num_features)\n",
    "\n",
    "    qc = QuantumCircuit(num_features)\n",
    "    qc.compose(feature_map, inplace=True)\n",
    "    qc.compose(ansatz, inplace=True)\n",
    "    #qc.draw(output=\"mpl\", style=\"clifford\")\n",
    "    qnn_estimator = EstimatorQNN(\n",
    "            circuit=qc, \n",
    "            input_params=feature_map.parameters,\n",
    "            weight_params=ansatz.parameters,\n",
    "            input_gradients=True,\n",
    "            \n",
    "            )\n",
    "\n",
    "    return qnn_estimator\n",
    "\n",
    "# Quantum Classifier using QNN +DNN\n",
    "class QuantumClassifier_Multilayer(torch.nn.Module):\n",
    "    def __init__(self, qnn_class_0, qnn_class_1, qnn_class_2, num_features):\n",
    "        super(QuantumClassifier_Multilayer, self).__init__()\n",
    "        # Attach the QNN to Torch via TorchConnector\n",
    "\n",
    "        \n",
    "        self.qnn_0 = TorchConnector(qnn_class_0)\n",
    "        self.qnn_1 = TorchConnector(qnn_class_1)\n",
    "        self.qnn_2 = TorchConnector(qnn_class_2)\n",
    "        \n",
    "        self.fc1 = Linear(num_features, 16)  \n",
    "        self.fc2 = Linear(16, num_features)\n",
    "        self.fc3 = Linear(3, 3) #3 num clases\n",
    "\n",
    "\n",
    "    def forward(self, x):\n",
    "\n",
    "        x = torch.nn.functional.relu(self.fc1(x))\n",
    "        x = torch.nn.functional.relu(self.fc2(x))\n",
    "\n",
    "        # Get output for each class QNN\n",
    "        output_0 = self.qnn_0(x)\n",
    "        output_1 = self.qnn_1(x)\n",
    "        output_2 = self.qnn_2(x)\n",
    "\n",
    "        quantum_output = torch.cat([output_0, output_1, output_2], dim=-1)\n",
    "\n",
    "        x = self.fc3(quantum_output)  \n",
    "    \n",
    "        # Softmax for n-class classification output\n",
    "        return torch.nn.functional.softmax(x, dim=-1)\n",
    "\n",
    "# We create one qnn for each class and we create different feature mapping\n",
    "\n",
    "feature_map_0 = ZZFeatureMap(feature_dimension=num_features, reps=1, parameter_prefix='θ0')\n",
    "feature_map_1 = PauliFeatureMap(feature_dimension=num_features, reps=1, parameter_prefix='θ1', paulis=[\"Z\", \"YY\"])\n",
    "feature_map_2 = PauliFeatureMap(feature_dimension=num_features, reps=1, parameter_prefix='θ2', paulis=[\"Z\", \"XX\"])\n",
    "\n",
    "model_qnn_0 = create_estimator_qnn(feature_map_0, num_features)\n",
    "model_qnn_1 = create_estimator_qnn(feature_map_1, num_features)\n",
    "model_qnn_2 = create_estimator_qnn(feature_map_2, num_features)\n",
    "model_estimator_hybrid = QuantumClassifier_Multilayer(model_qnn_0, model_qnn_1, model_qnn_2, num_features)\n",
    "\n",
    "\n",
    "total_qnn_params = (model_qnn_0.num_weights + model_qnn_1.num_weights + model_qnn_2.num_weights)\n",
    "total_params = sum(p.numel() for p in model_estimator_hybrid.parameters())\n",
    "\n",
    "print(f\"Total QNN Parameters: {total_qnn_params}\")\n",
    "print(f\"Total Parameters: {total_params}\")\n"
   ]
  },
  {
   "cell_type": "code",
   "execution_count": 15,
   "metadata": {},
   "outputs": [
    {
     "name": "stdout",
     "output_type": "stream",
     "text": [
      "Epoch 0: Loss = 1.1072694063186646\n",
      "Epoch 10: Loss = 1.014457106590271\n",
      "Epoch 20: Loss = 0.8295822739601135\n",
      "Epoch 30: Loss = 0.7522464394569397\n",
      "Epoch 40: Loss = 0.680919885635376\n",
      "Epoch 50: Loss = 0.6159346103668213\n",
      "Epoch 60: Loss = 0.5896609425544739\n",
      "Epoch 70: Loss = 0.580964982509613\n",
      "Epoch 80: Loss = 0.576778769493103\n",
      "Epoch 90: Loss = 0.5740591883659363\n"
     ]
    }
   ],
   "source": [
    "loss_function = torch.nn.CrossEntropyLoss()\n",
    "optimizer = Adam(model_estimator_hybrid.parameters(), lr=0.1)\n",
    "\n",
    "# Training loop\n",
    "num_epochs = 100\n",
    "loss_train_estimator_hybrid = [] \n",
    "metrics['acc_train_estimator_hybrid'] = []\n",
    "metrics['acc_test_estimator_hybrid'] = []\n",
    "for epoch in range(num_epochs):\n",
    "    model_estimator_hybrid.train()\n",
    "    # Zero the gradients\n",
    "    optimizer.zero_grad()\n",
    "\n",
    "    # Forward pass\n",
    "    outputs = model_estimator_hybrid(X_tensor_train_scaled)\n",
    "    loss = loss_function(outputs, y_tensor_train)\n",
    "\n",
    "    # Backward pass and optimize\n",
    "    loss.backward()\n",
    "    optimizer.step()\n",
    "    loss_train_estimator_hybrid.append(loss.item())\n",
    "    if epoch % 10 == 0:\n",
    "        print(f\"Epoch {epoch}: Loss = {loss.item()}\")\n",
    "\n",
    "    model_estimator_hybrid.eval()\n",
    "    output_train = model_estimator_hybrid(X_tensor_train_scaled)\n",
    "    train_pred = torch.argmax(output_train, dim=1)\n",
    "    metrics['acc_train_estimator_hybrid'].append(accuracy_score(train_pred, train_y))\n",
    "\n",
    "    output_test = model_estimator_hybrid(X_tensor_test_scaled)\n",
    "    test_pred = torch.argmax(output_test, dim=1)\n",
    "    metrics['acc_test_estimator_hybrid'].append(accuracy_score(test_pred, test_y))\n"
   ]
  },
  {
   "cell_type": "code",
   "execution_count": 16,
   "metadata": {},
   "outputs": [
    {
     "name": "stdout",
     "output_type": "stream",
     "text": [
      "EstimatorQNN + DNN\n",
      "Accuracy train: 0.9917\n",
      "F1 score train: 0.9917\n",
      "Accuracy test: 0.9333\n",
      "F1 score test: 0.9327\n"
     ]
    }
   ],
   "source": [
    "#Evaluate the model\n",
    "model_estimator_hybrid.eval()\n",
    "output_train = model_estimator_hybrid(X_tensor_train_scaled)\n",
    "train_pred = torch.argmax(output_train, dim=1)\n",
    "\n",
    "output_test = model_estimator_hybrid(X_tensor_test_scaled)\n",
    "test_pred = torch.argmax(output_test, dim=1)\n",
    "\n",
    "\n",
    "metrics_estimator_hybrid = {'accuracy_train': accuracy_score(train_pred, train_y),\n",
    "                          'accuracy_test': accuracy_score(test_pred, test_y),\n",
    "                          'f1_score_train': f1_score(train_pred, train_y, average='weighted'),\n",
    "                          'f1_score_test': f1_score(test_pred, test_y, average='weighted'),\n",
    "                          }\n",
    "\n",
    "print('EstimatorQNN + DNN')\n",
    "print(f'Accuracy train: { metrics_estimator_hybrid['accuracy_train']:.4f}')\n",
    "print(f'F1 score train: { metrics_estimator_hybrid['f1_score_train']:.4f}')\n",
    "print(f'Accuracy test: { metrics_estimator_hybrid['accuracy_test']:.4f}')\n",
    "print(f'F1 score test: { metrics_estimator_hybrid['f1_score_test']:.4f}')"
   ]
  },
  {
   "cell_type": "markdown",
   "metadata": {},
   "source": [
    "#### 2.3  Sampler QNN\n",
    "\n",
    "In this section, we use the SamplerQNN for classification. The SamplerQNN provides a probability distribution over possible outcomes, making it well-suited for multiclass tasks. Since our classification requires three distinct classes, we map the output bitstrings (representing the different possible outcomes) directly to our target classes. This approach leverages the probabilistic nature of SamplerQNN to capture class distributions, enhancing the model's ability to handle multiclass classification effectively."
   ]
  },
  {
   "cell_type": "code",
   "execution_count": 17,
   "metadata": {},
   "outputs": [
    {
     "name": "stderr",
     "output_type": "stream",
     "text": [
      "No gradient function provided, creating a gradient function. If your Sampler requires transpilation, please provide a pass manager.\n"
     ]
    },
    {
     "name": "stdout",
     "output_type": "stream",
     "text": [
      "Total QNN Parameters: 16\n",
      "Total Parameters: 16\n"
     ]
    }
   ],
   "source": [
    "\n",
    "num_features = train_X.shape[1]\n",
    "num_classes = len(data.target_names)\n",
    "\n",
    "def interpret_bitstring(bitstring):\n",
    "    # Convert integer to binary if necessary, ensuring a list of bits for consistency\n",
    "    if isinstance(bitstring, int):\n",
    "        # Convert to binary and fill up to the number of qubits\n",
    "        bitstring = [int(d) for d in f\"{bitstring:0{num_features}b}\"]\n",
    "    # Sum bit values to get the class (mod num_classes to stay within range)\n",
    "    return sum(bitstring) % num_classes\n",
    "\n",
    "\n",
    "def create_sampler_qnn():\n",
    "\n",
    "    feature_map = ZZFeatureMap(feature_dimension=num_features, reps=1)\n",
    "    ansatz = RealAmplitudes(num_qubits=num_features)\n",
    "\n",
    "    qc = QuantumCircuit(num_features)\n",
    "    qc.compose(feature_map, inplace=True)\n",
    "    qc.compose(ansatz, inplace=True)\n",
    "\n",
    "    sampler = StatevectorSampler()\n",
    "    qnn_sampler = SamplerQNN(\n",
    "    circuit=qc,\n",
    "    sampler=sampler,\n",
    "    input_params=feature_map.parameters,\n",
    "    weight_params=ansatz.parameters,\n",
    "    interpret=interpret_bitstring,\n",
    "    input_gradients=True,\n",
    "    output_shape=num_classes,\n",
    "    )\n",
    "    \n",
    "    return qnn_sampler\n",
    "\n",
    "\n",
    "class QuantumClassifier(torch.nn.Module):\n",
    "    def __init__(self, qnn, num_classes=3):\n",
    "        super(QuantumClassifier, self).__init__()\n",
    "        # Attach the QNN to Torch via TorchConnector\n",
    "        self.qnn = TorchConnector(qnn)\n",
    "        self.num_classes = num_classes\n",
    "\n",
    "    def forward(self, x):\n",
    "        # Get probabilities from the QNN and select top `num_classes`\n",
    "        quantum_output = self.qnn(x)\n",
    "        return  torch.nn.functional.softmax(quantum_output, dim=-1)\n",
    "\n",
    "\n",
    "\n",
    "model_qnn = create_sampler_qnn()\n",
    "model_sampler_qnn = QuantumClassifier(qnn=model_qnn)\n",
    "\n",
    "total_qnn_params = model_qnn.num_weights\n",
    "total_params = sum(p.numel() for p in model_sampler_qnn.parameters())\n",
    "\n",
    "print(f\"Total QNN Parameters: {total_qnn_params}\")\n",
    "print(f\"Total Parameters: {total_params}\")"
   ]
  },
  {
   "cell_type": "code",
   "execution_count": 18,
   "metadata": {},
   "outputs": [
    {
     "name": "stdout",
     "output_type": "stream",
     "text": [
      "Epoch 0: Loss = 1.1042248010635376\n",
      "Epoch 10: Loss = 1.0640718936920166\n",
      "Epoch 20: Loss = 1.0504841804504395\n",
      "Epoch 30: Loss = 1.0467089414596558\n",
      "Epoch 40: Loss = 1.0453660488128662\n",
      "Epoch 50: Loss = 1.043480634689331\n",
      "Epoch 60: Loss = 1.0446821451187134\n",
      "Epoch 70: Loss = 1.044761061668396\n",
      "Epoch 80: Loss = 1.0439627170562744\n",
      "Epoch 90: Loss = 1.0443542003631592\n"
     ]
    }
   ],
   "source": [
    "loss_function = torch.nn.CrossEntropyLoss()\n",
    "optimizer = Adam(model_sampler_qnn.parameters(), lr=0.1)\n",
    "\n",
    "\n",
    "# Training loop\n",
    "num_epochs = 100\n",
    "loss_train_sampler = [] \n",
    "metrics['acc_train_sampler'], metrics['acc_test_sampler'] = [], []\n",
    "\n",
    "for epoch in range(num_epochs):\n",
    "    model_sampler_qnn.train()\n",
    "    # Zero the gradients\n",
    "    optimizer.zero_grad()\n",
    "\n",
    "    # Forward pass\n",
    "    outputs = model_sampler_qnn(X_tensor_train_scaled)\n",
    "    loss = loss_function(outputs, y_tensor_train)\n",
    "\n",
    "    # Backward pass and optimize\n",
    "    loss.backward()\n",
    "    optimizer.step()\n",
    "    loss_train_sampler.append(loss.item())\n",
    "    if epoch % 10 == 0:\n",
    "        print(f\"Epoch {epoch}: Loss = {loss.item()}\")\n",
    "\n",
    "    model_sampler_qnn.eval()\n",
    "    output_train = model_sampler_qnn(X_tensor_train_scaled)\n",
    "    train_pred = torch.argmax(output_train, dim=1)\n",
    "    metrics['acc_train_sampler'].append(accuracy_score(train_pred, train_y))\n",
    "\n",
    "    output_test = model_sampler_qnn(X_tensor_test_scaled)\n",
    "    test_pred = torch.argmax(output_test, dim=1)\n",
    "    metrics['acc_test_sampler'].append(accuracy_score(test_pred, test_y))"
   ]
  },
  {
   "cell_type": "code",
   "execution_count": 19,
   "metadata": {},
   "outputs": [
    {
     "name": "stdout",
     "output_type": "stream",
     "text": [
      "SamplerQNN\n",
      "Accuracy train: 0.7500\n",
      "F1 score train: 0.7493\n",
      "Accuracy test: 0.7333\n",
      "F1 score test: 0.7348\n"
     ]
    }
   ],
   "source": [
    "model_sampler_qnn.eval()\n",
    "output_train = model_sampler_qnn(X_tensor_train_scaled)\n",
    "train_pred = torch.argmax(output_train, dim=1)\n",
    "\n",
    "output_test = model_sampler_qnn(X_tensor_test_scaled)\n",
    "test_pred = torch.argmax(output_test, dim=1)\n",
    "\n",
    "\n",
    "\n",
    "\n",
    "metrics_sampler = {'accuracy_train': accuracy_score(train_pred, train_y),\n",
    "                          'accuracy_test': accuracy_score(test_pred, test_y),\n",
    "                          'f1_score_train': f1_score(train_pred, train_y, average='weighted'),\n",
    "                          'f1_score_test': f1_score(test_pred, test_y, average='weighted'),\n",
    "                          }\n",
    "\n",
    "print('SamplerQNN')\n",
    "print(f'Accuracy train: { metrics_sampler['accuracy_train']:.4f}')\n",
    "print(f'F1 score train: { metrics_sampler['f1_score_train']:.4f}')\n",
    "\n",
    "print(f'Accuracy test: { metrics_sampler['accuracy_test']:.4f}')\n",
    "print(f'F1 score test: { metrics_sampler['f1_score_test']:.4f}')\n"
   ]
  },
  {
   "cell_type": "markdown",
   "metadata": {},
   "source": [
    "#### 2.4  Sampler QNN + Classical Neural Network\n",
    "\n",
    "Finally we add Classical Neural Network to the SamplerQNN model\n"
   ]
  },
  {
   "cell_type": "code",
   "execution_count": 20,
   "metadata": {},
   "outputs": [
    {
     "name": "stderr",
     "output_type": "stream",
     "text": [
      "No gradient function provided, creating a gradient function. If your Sampler requires transpilation, please provide a pass manager.\n"
     ]
    },
    {
     "name": "stdout",
     "output_type": "stream",
     "text": [
      "Total QNN Parameters: 16\n",
      "Total Parameters: 283\n"
     ]
    }
   ],
   "source": [
    "\n",
    "class QuantumClassifier_Multilayer(torch.nn.Module):\n",
    "    def __init__(self, qnn, num_classes=3):\n",
    "        super(QuantumClassifier_Multilayer, self).__init__()\n",
    "        # Attach the QNN to Torch via TorchConnector\n",
    "        self.qnn = TorchConnector(qnn)\n",
    "        self.num_classes = num_classes\n",
    "\n",
    "        self.fc1 = Linear(num_classes, 16)\n",
    "        self.fc2 = Linear(16, 10)\n",
    "        self.fc3 = Linear(10, num_classes)\n",
    "        \n",
    "    def forward(self, x):\n",
    "        # Get probabilities from the QNN\n",
    "        quantum_output = self.qnn(x)\n",
    "        x = torch.nn.functional.relu(self.fc1(quantum_output)) \n",
    "        x = torch.nn.functional.relu(self.fc2(x)) \n",
    "        x = self.fc3(x)  # Final layer to produce class logits\n",
    "        return torch.nn.functional.softmax(x, dim=-1)  \n",
    "\n",
    "\n",
    "model_qnn = create_sampler_qnn()\n",
    "model_sampler_hybrid = QuantumClassifier_Multilayer(qnn=model_qnn, num_classes=num_classes)\n",
    "\n",
    "total_qnn_params = model_qnn.num_weights\n",
    "total_params = sum(p.numel() for p in model_sampler_hybrid.parameters())\n",
    "\n",
    "print(f\"Total QNN Parameters: {total_qnn_params}\")\n",
    "print(f\"Total Parameters: {total_params}\")"
   ]
  },
  {
   "cell_type": "code",
   "execution_count": 21,
   "metadata": {},
   "outputs": [
    {
     "name": "stdout",
     "output_type": "stream",
     "text": [
      "Epoch 0: Loss = 1.096326470375061\n",
      "Epoch 10: Loss = 0.8667321801185608\n",
      "Epoch 20: Loss = 0.810728132724762\n",
      "Epoch 30: Loss = 0.6992244124412537\n",
      "Epoch 40: Loss = 0.6631624698638916\n",
      "Epoch 50: Loss = 0.6585257649421692\n",
      "Epoch 60: Loss = 0.6672795414924622\n",
      "Epoch 70: Loss = 0.6640371680259705\n",
      "Epoch 80: Loss = 0.6718798279762268\n",
      "Epoch 90: Loss = 0.6759104132652283\n"
     ]
    }
   ],
   "source": [
    "\n",
    "loss_function = torch.nn.CrossEntropyLoss()\n",
    "optimizer = Adam(model_sampler_hybrid.parameters(), lr=0.1)\n",
    "\n",
    "# Training loop\n",
    "num_epochs = 100\n",
    "loss_train_sampler_hybrid = [] \n",
    "metrics['acc_train_sampler_hybrid'], metrics['acc_test_sampler_hybrid'] = [], []\n",
    "\n",
    "for epoch in range(num_epochs):\n",
    "    model_sampler_hybrid.train()\n",
    "    # Zero the gradients\n",
    "    optimizer.zero_grad()\n",
    "\n",
    "    # Forward pass\n",
    "    outputs = model_sampler_hybrid(X_tensor_train_scaled)\n",
    "    loss = loss_function(outputs, y_tensor_train)\n",
    "\n",
    "    # Backward pass and optimize\n",
    "    loss.backward()\n",
    "    optimizer.step()\n",
    "    loss_train_sampler_hybrid.append(loss.item())\n",
    "    if epoch % 10 == 0:\n",
    "        print(f\"Epoch {epoch}: Loss = {loss.item()}\")\n",
    "\n",
    "    model_sampler_hybrid.eval()\n",
    "    output_train = model_sampler_hybrid(X_tensor_train_scaled)\n",
    "    train_pred = torch.argmax(output_train, dim=1)\n",
    "    metrics['acc_train_sampler_hybrid'].append(accuracy_score(train_pred, train_y))\n",
    "\n",
    "    output_test = model_sampler_hybrid(X_tensor_test_scaled)\n",
    "    test_pred = torch.argmax(output_test, dim=1)\n",
    "    metrics['acc_test_sampler_hybrid'].append(accuracy_score(test_pred, test_y))"
   ]
  },
  {
   "cell_type": "code",
   "execution_count": 22,
   "metadata": {},
   "outputs": [
    {
     "name": "stdout",
     "output_type": "stream",
     "text": [
      "SamplerQNN + DNN\n",
      "Accuracy train: 0.8500\n",
      "F1 score train: 0.8513\n",
      "Accuracy test: 0.8000\n",
      "F1 score test: 0.7949\n"
     ]
    }
   ],
   "source": [
    "model_sampler_hybrid.eval()\n",
    "\n",
    "output_train = model_sampler_hybrid(X_tensor_train_scaled)\n",
    "train_pred = torch.argmax(output_train, dim=1)\n",
    "\n",
    "output_test = model_sampler_hybrid(X_tensor_test_scaled)\n",
    "test_pred = torch.argmax(output_test, dim=1)\n",
    "\n",
    "metrics_sampler_hybrid = {'accuracy_train': accuracy_score(train_pred, train_y),\n",
    "                          'accuracy_test': accuracy_score(test_pred, test_y),\n",
    "                          'f1_score_train': f1_score(train_pred, train_y, average='weighted'),\n",
    "                          'f1_score_test': f1_score(test_pred, test_y, average='weighted'),\n",
    "                          }\n",
    "\n",
    "\n",
    "print('SamplerQNN + DNN')\n",
    "print(f'Accuracy train: { metrics_sampler_hybrid['accuracy_train']:.4f}')\n",
    "print(f'F1 score train: { metrics_sampler_hybrid['f1_score_train']:.4f}')\n",
    "\n",
    "print(f'Accuracy test: { metrics_sampler_hybrid['accuracy_test']:.4f}')\n",
    "print(f'F1 score test: { metrics_sampler_hybrid['f1_score_test']:.4f}')"
   ]
  },
  {
   "cell_type": "markdown",
   "metadata": {},
   "source": [
    "## Section 3: Results and Analysis\n",
    "\n",
    "In this section, we compare the performance of different models used for multiclass classification. Although all models achieve reasonable accuracy, none of them outperforms the baseline set by the classical SVM model. This result suggests that, although hybrid quantum-classical models offer potential, they do not always outperform purely quantum or classical approaches. However, it is essential to note that these results are specific to the scope of this experiment and may not generalise to other, more complex problems.\n",
    "\n",
    "Furthermore, we show that quantum models can be successfully adapted to multiclass classification, demonstrating that quantum methods can relatively easily tackle more nuanced classification tasks beyond binary problems."
   ]
  },
  {
   "cell_type": "code",
   "execution_count": 23,
   "metadata": {},
   "outputs": [
    {
     "name": "stdout",
     "output_type": "stream",
     "text": [
      "Accuracy estimator QNN train: 0.8583\n",
      "Accuracy estimator hybrid train: 0.9917\n",
      "Accuracy sampler QNN train: 0.7500\n",
      "Accuracy sampler hybrid train: 0.8500\n",
      "------------------------------\n",
      "Accuracy estimator QNN test: 0.7000\n",
      "Accuracy estimator hybrid test: 0.9333\n",
      "Accuracy sampler QNN test: 0.7333\n",
      "Accuracy sampler hybrid test: 0.8000\n"
     ]
    }
   ],
   "source": [
    "print(f'Accuracy estimator QNN train: { metrics_estimator['accuracy_train']:.4f}')\n",
    "print(f'Accuracy estimator hybrid train: { metrics_estimator_hybrid['accuracy_train']:.4f}')\n",
    "print(f'Accuracy sampler QNN train: { metrics_sampler['accuracy_train']:.4f}')\n",
    "print(f'Accuracy sampler hybrid train: { metrics_sampler_hybrid['accuracy_train']:.4f}')\n",
    "\n",
    "print('------------------------------')\n",
    "print(f'Accuracy estimator QNN test: { metrics_estimator['accuracy_test']:.4f}')\n",
    "print(f'Accuracy estimator hybrid test: { metrics_estimator_hybrid['accuracy_test']:.4f}')\n",
    "print(f'Accuracy sampler QNN test: { metrics_sampler['accuracy_test']:.4f}')\n",
    "print(f'Accuracy sampler hybrid test: { metrics_sampler_hybrid['accuracy_test']:.4f}')"
   ]
  },
  {
   "cell_type": "code",
   "execution_count": 24,
   "metadata": {},
   "outputs": [
    {
     "data": {
      "image/png": "[encoded data removed]",
      "text/plain": [
       "<Figure size 1200x600 with 1 Axes>"
      ]
     },
     "metadata": {},
     "output_type": "display_data"
    }
   ],
   "source": [
    "plt.plot(np.arange(len(metrics['acc_train_estimator'])), metrics['acc_train_estimator'], label='Estimator', color='C0')\n",
    "plt.plot(np.arange(len(metrics['acc_train_estimator_hybrid'])), metrics['acc_train_estimator_hybrid'], label='Estimator hybrid', color='C1')\n",
    "plt.plot(np.arange(len(metrics['acc_train_sampler'])), metrics['acc_train_sampler'], label='Sampler', color='C2')\n",
    "plt.plot(np.arange(len(metrics['acc_train_sampler_hybrid'])), metrics['acc_train_sampler_hybrid'], label='Sampler hybrid', color='C3')\n",
    "\n",
    "plt.title('Accuracy during training')\n",
    "plt.xlabel('Epochs')\n",
    "plt.ylabel('Accuracy')\n",
    "plt.legend()\n",
    "plt.show()\n"
   ]
  },
  {
   "cell_type": "markdown",
   "metadata": {},
   "source": [
    "From the above graph it is quite clear that a hybrid model does not necessarily perform better than a purely quantum model."
   ]
  },
  {
   "cell_type": "code",
   "execution_count": 25,
   "metadata": {},
   "outputs": [
    {
     "data": {
      "text/plain": [
       "Text(0.5, 0.98, 'Loss')"
      ]
     },
     "execution_count": 25,
     "metadata": {},
     "output_type": "execute_result"
    },
    {
     "data": {
      "image/png": "[encoded data removed]",
      "text/plain": [
       "<Figure size 1200x600 with 2 Axes>"
      ]
     },
     "metadata": {},
     "output_type": "display_data"
    }
   ],
   "source": [
    "fig, ax = plt.subplots(2, sharex=True)\n",
    "ax[0].plot(np.arange(len(loss_train_estimator)), loss_train_estimator, label='Estimator')\n",
    "ax[0].plot(np.arange(len(loss_train_estimator_hybrid)), loss_train_estimator_hybrid, label='Estimator hybrid')\n",
    "ax[0].legend(loc=3)\n",
    "ax[0].set_ylabel('Loss')\n",
    "ax[0].set_title('Estimator models')\n",
    "\n",
    "\n",
    "ax[1].plot(np.arange(len(loss_train_sampler)), loss_train_sampler, label='Sampler')\n",
    "ax[1].plot(np.arange(len(loss_train_sampler_hybrid)), loss_train_sampler_hybrid, label='Sampler hybrid')\n",
    "ax[1].legend(loc=3)\n",
    "ax[1].set_ylabel('Loss')\n",
    "ax[1].set_xlabel('Epochs')\n",
    "ax[1].set_title('Sampler models')\n",
    "\n",
    "plt.suptitle('Loss', fontsize=14)\n"
   ]
  },
  {
   "cell_type": "markdown",
   "metadata": {},
   "source": [
    "The loss function during training indicates that most models learn effectively, with the exception of the Estimator model and the Sampler model, which reach a plateau. This suggests that these models may require further investigation, including hyperparameter tuning, to improve their performance and avoid early stagnation."
   ]
  },
  {
   "cell_type": "markdown",
   "metadata": {},
   "source": [
    "## Future Work\n",
    "\n",
    "Future efforts could focus on hyperparameter tuning to optimise model performance. This includes adjusting the number of neurons, selecting the best ansatz and feature maps, and exploring other parameter settings. In addition, an in-depth analysis of computational costs and run-time performance would provide insight into the practical advantages of quantum classifiers compared to classical models, which would help clarify any genuine advantages of quantum systems for classification tasks."
   ]
  }
 ],
 "metadata": {
  "kernelspec": {
   "display_name": "QML_env",
   "language": "python",
   "name": "python3"
  },
  "language_info": {
   "codemirror_mode": {
    "name": "ipython",
    "version": 3
   },
   "file_extension": ".py",
   "mimetype": "text/x-python",
   "name": "python",
   "nbconvert_exporter": "python",
   "pygments_lexer": "ipython3",
   "version": "3.12.0"
  }
 },
 "nbformat": 4,
 "nbformat_minor": 2
}
