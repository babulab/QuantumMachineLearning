{
 "cells": [
  {
   "cell_type": "markdown",
   "metadata": {},
   "source": [
    "# Regression with Quantum Computing and Neural Networks\n",
    "\n",
    "\n",
    "In this notebook, we explore regression tasks using Qiskit Machine Learning integrated with PyTorch. By experimenting with hybrid models—combining Quantum Neural Networks (QNNs) and Deep Neural Networks (DNNs)—we aim to achieve robust and potentially more accurate regression results.\n",
    "\n",
    "We use the well-known Diabetes dataset, a common benchmark in machine learning due to its straightforward yet informative structure. This dataset provides an effective foundation for demonstrating both quantum and hybrid approaches in regression.\n",
    "\n",
    "\n",
    "The notebook is structured into three main sections:\n",
    "\n",
    "- Section 1: Introduction to Regression with Qiskit Machine Learning <br>\n",
    "    This section provides a brief guide to the Qiskit Machine Learning library. We implement a Quantum Neural Network Regressor using Qiskit’s built-in methods, alongside a classical Support Vector Machine (SVM) regressor as a baseline for comparison.\n",
    "\n",
    "- Section 2: Advanced Hybrid Modeling with QNNs <br>\n",
    "    Here, we delve into the EstimatorQNN module. Using this module, we construct both fully quantum regressors and hybrid quantum-classical models, illustrating the strengths of each approach.\n",
    "- Section 3: Results and Analysis <br>\n",
    "    In this final section, we analyze and compare the performance of the different regression models, highlighting the strengths and potential limitations of quantum and hybrid methods."
   ]
  },
  {
   "cell_type": "code",
   "execution_count": 1,
   "metadata": {},
   "outputs": [],
   "source": [
    "#Import required packages\n",
    "from sklearn.datasets import load_diabetes\n",
    "from sklearn.preprocessing import MinMaxScaler\n",
    "from sklearn.model_selection import train_test_split\n",
    "import pandas as pd\n",
    "import numpy as np\n",
    "from qiskit_aer import Aer\n",
    "from qiskit.circuit.library import ZZFeatureMap, TwoLocal, RealAmplitudes\n",
    "from qiskit_machine_learning.neural_networks import EstimatorQNN\n",
    "from qiskit_machine_learning.algorithms import NeuralNetworkRegressor\n",
    "from qiskit_machine_learning.connectors import TorchConnector\n",
    "from qiskit import QuantumCircuit\n",
    "\n",
    "import time\n",
    "from sklearn.svm import SVR\n",
    "from sklearn.metrics import root_mean_squared_error, mean_absolute_percentage_error\n",
    "import torch\n",
    "from torch.optim import Adam\n",
    "from matplotlib import pyplot as plt\n",
    "from qiskit_algorithms.utils import algorithm_globals\n",
    "algorithm_globals.random_seed = 111\n",
    "np.random.seed(111)"
   ]
  },
  {
   "cell_type": "markdown",
   "metadata": {},
   "source": [
    "## Section 1: Introduction to Regression with Qiskit Machine Learning \n",
    "\n",
    "Regression is a fundamental task in machine learning with applications across various fields. As quantum computing technology advances, combining classical and quantum methods holds promise for improving both accuracy and computational efficiency. With high-fidelity quantum computers on the horizon, developing quantum-ready architectures, algorithms, and techniques is essential to harness their full potential.\n",
    "\n",
    "To assess the potential benefits of quantum regression models, we need a solid baseline. In this section, we establish that baseline by implementing a classical Support Vector Machine (SVM) regressor. We then compare it with quantum neural network regressors, allowing us to evaluate how well quantum approaches perform relative to established classical methods.\n"
   ]
  },
  {
   "cell_type": "code",
   "execution_count": 2,
   "metadata": {},
   "outputs": [],
   "source": [
    "#Import data\n",
    "data = load_diabetes()\n",
    "\n",
    "df_features = pd.DataFrame(data.data, columns=data.feature_names)\n",
    "df_target = pd.DataFrame(data.target)\n",
    "df_features.head(5)\n",
    "\n",
    "data.data = data.data[:, 0:4] # We will only use 4 features"
   ]
  },
  {
   "cell_type": "code",
   "execution_count": 3,
   "metadata": {},
   "outputs": [],
   "source": [
    "train_X, test_X, train_y, test_y = train_test_split(\n",
    "    data.data, data.target, train_size=0.8, shuffle=True)\n",
    "\n",
    "scaler_features = MinMaxScaler()\n",
    "X_train_scaled = scaler_features.fit_transform(train_X)\n",
    "X_test_scaled = scaler_features.transform(test_X)\n",
    "\n",
    "#We need to scale for the Quantum systems\n",
    "scaler_target = MinMaxScaler(feature_range=(-1, 1)) #expectation value range\n",
    "y_train_scaled = scaler_target.fit_transform(train_y[:,np.newaxis])\n",
    "y_test_scaled = scaler_target.transform(test_y[:,np.newaxis])\n",
    "\n",
    "\n",
    "num_features = train_X.shape[1]\n"
   ]
  },
  {
   "cell_type": "markdown",
   "metadata": {},
   "source": [
    "##### 1.1 Regression with SVM"
   ]
  },
  {
   "cell_type": "code",
   "execution_count": 4,
   "metadata": {},
   "outputs": [
    {
     "name": "stdout",
     "output_type": "stream",
     "text": [
      "Results SVM \n",
      "RMSE train: 74.4712\n",
      "RMSE test: 65.2684\n",
      "MAPE train: 0.4464\n",
      "MAPE test: 0.3790\n"
     ]
    }
   ],
   "source": [
    "regressor_smv = SVR()\n",
    "_ = regressor_smv.fit(X_train_scaled, train_y) \n",
    "\n",
    "train_pred = regressor_smv.predict(X_train_scaled)\n",
    "test_pred = regressor_smv.predict(X_test_scaled)\n",
    "\n",
    "\n",
    "metrics_svm = {'rmse_train': root_mean_squared_error(train_pred, train_y),\n",
    "                    'rmse_test': root_mean_squared_error(test_pred, test_y),\n",
    "                    'mape_train': mean_absolute_percentage_error(train_pred, train_y),\n",
    "                    'mape_test': mean_absolute_percentage_error(test_pred, test_y),\n",
    "                    }\n",
    "print('Results SVM ')\n",
    "print(f'RMSE train: { metrics_svm['rmse_train']:.4f}')\n",
    "print(f'RMSE test: {  metrics_svm['rmse_test']:.4f}')\n",
    "print(f'MAPE train: { metrics_svm['mape_train']:.4f}')\n",
    "print(f'MAPE test: {  metrics_svm['mape_test']:.4f}')\n"
   ]
  },
  {
   "cell_type": "markdown",
   "metadata": {},
   "source": [
    "##### 1.2 QNN NeuralNetworkRegressor with the method defined in Qiskit"
   ]
  },
  {
   "cell_type": "code",
   "execution_count": 5,
   "metadata": {},
   "outputs": [],
   "source": [
    "def create_estimator_qnn():\n",
    "\n",
    "    feature_map = ZZFeatureMap(feature_dimension=num_features, reps=1)\n",
    "    #feature_map.decompose().draw(output=\"mpl\", style=\"clifford\")\n",
    "    ansatz = RealAmplitudes(num_qubits=num_features)\n",
    "\n",
    "    qc = QuantumCircuit(num_features)\n",
    "    qc.compose(feature_map, inplace=True)\n",
    "    qc.compose(ansatz, inplace=True)\n",
    "    #qc.draw(output=\"mpl\", style=\"clifford\")\n",
    "    qnn_estimator = EstimatorQNN(\n",
    "            circuit=qc, \n",
    "            input_params=feature_map.parameters,\n",
    "            weight_params=ansatz.parameters,\n",
    "            input_gradients=True,\n",
    "            )\n",
    "\n",
    "    return qnn_estimator"
   ]
  },
  {
   "cell_type": "code",
   "execution_count": 6,
   "metadata": {},
   "outputs": [
    {
     "name": "stderr",
     "output_type": "stream",
     "text": [
      "/tmp/ipykernel_18698/3586250782.py:11: DeprecationWarning: V1 Primitives are deprecated as of qiskit-machine-learning 0.8.0 and will be removed no sooner than 4 months after the release date. Use V2 primitives for continued compatibility and support.\n",
      "  qnn_estimator = EstimatorQNN(\n"
     ]
    },
    {
     "data": {
      "text/plain": [
       "<qiskit_machine_learning.algorithms.regressors.neural_network_regressor.NeuralNetworkRegressor at 0x7f0cab9a74a0>"
      ]
     },
     "execution_count": 6,
     "metadata": {},
     "output_type": "execute_result"
    }
   ],
   "source": [
    "qnn_estimator = create_estimator_qnn()\n",
    "regressor_estimator = NeuralNetworkRegressor(neural_network=qnn_estimator)\n",
    "regressor_estimator.fit(X_train_scaled, y_train_scaled)"
   ]
  },
  {
   "cell_type": "code",
   "execution_count": 7,
   "metadata": {},
   "outputs": [
    {
     "name": "stdout",
     "output_type": "stream",
     "text": [
      "EstimatorQNN: \n",
      "RMSE train: 68.6160\n",
      "RMSE test: 64.6615\n",
      "MAPE train: 0.3892\n",
      "MAPE test: 0.3335\n"
     ]
    }
   ],
   "source": [
    "train_pred_scaled = regressor_estimator.predict(X_train_scaled)\n",
    "test_pred_scaled = regressor_estimator.predict(X_test_scaled)\n",
    "\n",
    "\n",
    "train_pred = scaler_target.inverse_transform(train_pred_scaled)\n",
    "test_pred = scaler_target.inverse_transform(test_pred_scaled)\n",
    "\n",
    "\n",
    "\n",
    "metrics_estimator = {'rmse_train': root_mean_squared_error(train_pred, train_y),\n",
    "                    'rmse_test': root_mean_squared_error(test_pred, test_y),\n",
    "                    'mape_train': mean_absolute_percentage_error(train_pred, train_y),\n",
    "                    'mape_test': mean_absolute_percentage_error(test_pred, test_y),\n",
    "                    }\n",
    "print('EstimatorQNN: ')\n",
    "print(f'RMSE train: { metrics_estimator['rmse_train']:.4f}')\n",
    "print(f'RMSE test: { metrics_estimator['rmse_test']:.4f}')\n",
    "print(f'MAPE train: { metrics_estimator['mape_train']:.4f}')\n",
    "print(f'MAPE test: { metrics_estimator['mape_test']:.4f}')\n",
    "\n"
   ]
  },
  {
   "cell_type": "markdown",
   "metadata": {},
   "source": [
    "## Section 2: Advanced Hybrid Modeling with QNNs\n",
    "\n",
    "Here, we delve into the EstimatorQNN module. Using this module, we construct both fully quantum regressors and hybrid quantum-classical models, illustrating the strengths of each approach.\n",
    "\n"
   ]
  },
  {
   "cell_type": "code",
   "execution_count": 8,
   "metadata": {},
   "outputs": [],
   "source": [
    "#Convert data in tensor\n",
    "X_tensor_train_scaled = torch.Tensor(X_train_scaled)\n",
    "y_tensor_train = torch.Tensor(train_y)[:,None]\n",
    "y_tensor_train_scaled = torch.Tensor(y_train_scaled)\n",
    "X_tensor_test_scaled = torch.Tensor(X_test_scaled)\n",
    "y_tensor_test = torch.Tensor(test_y)[:,None]\n",
    "y_tensor_test_scaled = torch.Tensor(y_test_scaled)\n",
    "num_features = train_X.shape[1]"
   ]
  },
  {
   "cell_type": "code",
   "execution_count": 9,
   "metadata": {},
   "outputs": [],
   "source": [
    "#Define the EstimatorQNN\n",
    "def create_estimator_qnn():\n",
    "\n",
    "    feature_map = ZZFeatureMap(feature_dimension=num_features, reps=1)\n",
    "    #feature_map.decompose().draw(output=\"mpl\", style=\"clifford\")\n",
    "    ansatz = RealAmplitudes(num_qubits=num_features)\n",
    "\n",
    "    qc = QuantumCircuit(num_features)\n",
    "    qc.compose(feature_map, inplace=True)\n",
    "    qc.compose(ansatz, inplace=True)\n",
    "    #qc.draw(output=\"mpl\", style=\"clifford\")\n",
    "    \n",
    "    qnn_estimator = EstimatorQNN(\n",
    "            circuit=qc, \n",
    "            input_params=feature_map.parameters,\n",
    "            weight_params=ansatz.parameters,\n",
    "            input_gradients=True,\n",
    "            )\n",
    "\n",
    "    return qnn_estimator\n"
   ]
  },
  {
   "cell_type": "code",
   "execution_count": 10,
   "metadata": {},
   "outputs": [
    {
     "name": "stdout",
     "output_type": "stream",
     "text": [
      "Total QNN Parameters: 16\n",
      "Total Parameters: 16\n"
     ]
    },
    {
     "name": "stderr",
     "output_type": "stream",
     "text": [
      "/tmp/ipykernel_18698/927456755.py:13: DeprecationWarning: V1 Primitives are deprecated as of qiskit-machine-learning 0.8.0 and will be removed no sooner than 4 months after the release date. Use V2 primitives for continued compatibility and support.\n",
      "  qnn_estimator = EstimatorQNN(\n"
     ]
    }
   ],
   "source": [
    "class QuantumRegressor(torch.nn.Module):\n",
    "        def __init__(self, qnn_regressor):\n",
    "            super(QuantumRegressor, self).__init__()\n",
    "            self.qnn_regressor = TorchConnector(qnn_regressor)\n",
    "\n",
    "        def forward(self, x):\n",
    "              \n",
    "              output  = self.qnn_regressor(x)\n",
    "              return output\n",
    "        \n",
    "qnn_regressor = create_estimator_qnn()\n",
    "\n",
    "model_estimator_qnn = QuantumRegressor(qnn_regressor=qnn_regressor)\n",
    "\n",
    "total_qnn_params = (qnn_regressor.num_weights)\n",
    "total_params = sum(p.numel() for p in model_estimator_qnn.parameters())\n",
    "\n",
    "print(f\"Total QNN Parameters: {total_qnn_params}\")\n",
    "print(f\"Total Parameters: {total_params}\")\n"
   ]
  },
  {
   "cell_type": "code",
   "execution_count": 11,
   "metadata": {},
   "outputs": [
    {
     "name": "stdout",
     "output_type": "stream",
     "text": [
      "Epoch 0: Loss = 0.33182984590530396\n",
      "Epoch 10: Loss = 0.22916671633720398\n",
      "Epoch 20: Loss = 0.2078421413898468\n",
      "Epoch 30: Loss = 0.19519783556461334\n",
      "Epoch 40: Loss = 0.19315752387046814\n",
      "Epoch 50: Loss = 0.19077333807945251\n",
      "Epoch 60: Loss = 0.19066138565540314\n",
      "Epoch 70: Loss = 0.19050128757953644\n",
      "Epoch 80: Loss = 0.1903109848499298\n",
      "Epoch 90: Loss = 0.19017639756202698\n"
     ]
    }
   ],
   "source": [
    "loss_function = torch.nn.MSELoss()\n",
    "optimizer = Adam(model_estimator_qnn.parameters(), lr=0.1)\n",
    "\n",
    "# Training loop\n",
    "num_epochs = 100\n",
    "loss_train_estimator = []\n",
    "metrics = {'rmse_train_estimator':[],\n",
    "           'rmse_test_estimator':[]}\n",
    "for epoch in range(num_epochs):\n",
    "    model_estimator_qnn.train()\n",
    "    # Zero the gradients\n",
    "    optimizer.zero_grad()\n",
    "\n",
    "    # Forward pass\n",
    "    outputs = model_estimator_qnn(X_tensor_train_scaled)\n",
    "    loss = loss_function(outputs, y_tensor_train_scaled)\n",
    "\n",
    "    # Backward pass and optimize\n",
    "    loss.backward()\n",
    "    optimizer.step()\n",
    "    loss_train_estimator.append(loss.item())\n",
    "    if epoch % 10 == 0:\n",
    "        print(f\"Epoch {epoch}: Loss = {loss.item()}\")\n",
    "\n",
    "    model_estimator_qnn.eval()\n",
    "    train_pred_scaled = (model_estimator_qnn(X_tensor_train_scaled)).detach().numpy()\n",
    "    train_pred = scaler_target.inverse_transform(train_pred_scaled)\n",
    "    \n",
    "    metrics['rmse_train_estimator'].append(root_mean_squared_error(train_pred, train_y))\n",
    "\n",
    "    test_pred_scaled = (model_estimator_qnn(X_tensor_test_scaled)).detach().numpy()\n",
    "    test_pred = scaler_target.inverse_transform(test_pred_scaled)\n",
    "    metrics['rmse_test_estimator'].append(root_mean_squared_error(test_pred, test_y))"
   ]
  },
  {
   "cell_type": "code",
   "execution_count": 12,
   "metadata": {},
   "outputs": [
    {
     "name": "stdout",
     "output_type": "stream",
     "text": [
      "Estimator QNN: \n",
      "RMSE train: 69.9893\n",
      "RMSE test: 65.6515\n",
      "MAPE train: 0.4001\n",
      "MAPE test: 0.3550\n"
     ]
    }
   ],
   "source": [
    "#Evaluate the model\n",
    "model_estimator_qnn.eval()\n",
    "\n",
    "train_pred_scaled = (model_estimator_qnn(X_tensor_train_scaled)).detach().numpy()\n",
    "test_pred_scaled = (model_estimator_qnn(X_tensor_test_scaled)).detach().numpy()\n",
    "\n",
    "train_pred = scaler_target.inverse_transform(train_pred_scaled)\n",
    "test_pred = scaler_target.inverse_transform(test_pred_scaled)\n",
    "\n",
    "\n",
    "metrics_estimator = {'rmse_train': root_mean_squared_error(train_pred, train_y),\n",
    "                     'rmse_test': root_mean_squared_error(test_pred, test_y),\n",
    "                     'mape_train': mean_absolute_percentage_error(train_pred, train_y),\n",
    "                     'mape_test': mean_absolute_percentage_error(test_pred, test_y),\n",
    "                    }\n",
    "\n",
    "print('Estimator QNN: ')\n",
    "print(f'RMSE train: { metrics_estimator['rmse_train']:.4f}')\n",
    "print(f'RMSE test: { metrics_estimator['rmse_test']:.4f}')\n",
    "print(f'MAPE train: { metrics_estimator['mape_train']:.4f}')\n",
    "print(f'MAPE test: { metrics_estimator['mape_test']:.4f}')"
   ]
  },
  {
   "cell_type": "markdown",
   "metadata": {},
   "source": [
    "#### 2.2  EstimatorQNN + Classical Neural Network\n",
    "\n",
    "Note that here we have created a system in which we consider classical layers, then the QNN, and finally another classical layer."
   ]
  },
  {
   "cell_type": "code",
   "execution_count": 13,
   "metadata": {},
   "outputs": [
    {
     "name": "stdout",
     "output_type": "stream",
     "text": [
      "Total QNN Parameters: 16\n",
      "Total Parameters: 112\n"
     ]
    },
    {
     "name": "stderr",
     "output_type": "stream",
     "text": [
      "/tmp/ipykernel_18698/927456755.py:13: DeprecationWarning: V1 Primitives are deprecated as of qiskit-machine-learning 0.8.0 and will be removed no sooner than 4 months after the release date. Use V2 primitives for continued compatibility and support.\n",
      "  qnn_estimator = EstimatorQNN(\n"
     ]
    }
   ],
   "source": [
    "\n",
    "class QuantumRegressor_Multilayer(torch.nn.Module):\n",
    "        def __init__(self, qnn_regressor, num_features):\n",
    "            super(QuantumRegressor_Multilayer, self).__init__()\n",
    "\n",
    "            self.pre_qnn_layer_1 = torch.nn.Linear(in_features=num_features, out_features=10)\n",
    "            self.pre_qnn_layer_2 = torch.nn.Linear(in_features=10, out_features=num_features)            \n",
    "            self.qnn_regressor = TorchConnector(qnn_regressor)\n",
    "            self.post_qnn_layer = torch.nn.Linear(in_features=1, out_features=1)\n",
    "\n",
    "        def forward(self, x):\n",
    "              \n",
    "              x = torch.nn.functional.relu(self.pre_qnn_layer_1(x))\n",
    "              x = torch.nn.functional.relu(self.pre_qnn_layer_2(x))\n",
    "\n",
    "              x  = self.qnn_regressor(x)\n",
    "              output = self.post_qnn_layer(x)\n",
    "\n",
    "              return output\n",
    "        \n",
    "qnn_regressor = create_estimator_qnn()\n",
    "\n",
    "model_estimator_hybrid = QuantumRegressor_Multilayer(qnn_regressor=qnn_regressor,num_features=num_features)\n",
    "\n",
    "total_qnn_params = (qnn_regressor.num_weights)\n",
    "total_params = sum(p.numel() for p in model_estimator_hybrid.parameters())\n",
    "\n",
    "print(f\"Total QNN Parameters: {total_qnn_params}\")\n",
    "print(f\"Total Parameters: {total_params}\")\n"
   ]
  },
  {
   "cell_type": "code",
   "execution_count": 14,
   "metadata": {},
   "outputs": [
    {
     "name": "stdout",
     "output_type": "stream",
     "text": [
      "Epoch 0: Loss = 1.1099830865859985\n",
      "Epoch 10: Loss = 0.2585356533527374\n",
      "Epoch 20: Loss = 0.25809356570243835\n",
      "Epoch 30: Loss = 0.23403796553611755\n",
      "Epoch 40: Loss = 0.21179603040218353\n",
      "Epoch 50: Loss = 0.20605170726776123\n",
      "Epoch 60: Loss = 0.19324205815792084\n",
      "Epoch 70: Loss = 0.17334510385990143\n",
      "Epoch 80: Loss = 0.1606459617614746\n",
      "Epoch 90: Loss = 0.15025319159030914\n"
     ]
    }
   ],
   "source": [
    "loss_function = torch.nn.MSELoss()\n",
    "optimizer = Adam(model_estimator_hybrid.parameters(), lr=0.1)\n",
    "\n",
    "\n",
    "# Training loop\n",
    "num_epochs = 100\n",
    "loss_estimator_hybrid = []\n",
    "metrics['rmse_train_estimator_hybrid'], metrics['rmse_test_estimator_hybrid'] = [], []\n",
    "for epoch in range(num_epochs):\n",
    "    model_estimator_hybrid.train()\n",
    "    # Zero the gradients\n",
    "    optimizer.zero_grad()\n",
    "\n",
    "    # Forward pass\n",
    "    outputs = model_estimator_hybrid(X_tensor_train_scaled)\n",
    "    loss = loss_function(outputs, y_tensor_train_scaled)\n",
    "\n",
    "    # Backward pass and optimize\n",
    "    loss.backward()\n",
    "    optimizer.step()\n",
    "    loss_estimator_hybrid.append(loss.item())\n",
    "    if epoch % 10 == 0:\n",
    "        print(f\"Epoch {epoch}: Loss = {loss.item()}\")\n",
    "\n",
    "    model_estimator_hybrid.eval()\n",
    "    train_pred_scaled = (model_estimator_hybrid(X_tensor_train_scaled)).detach().numpy()\n",
    "    train_pred = scaler_target.inverse_transform(train_pred_scaled)\n",
    "    \n",
    "    metrics['rmse_train_estimator_hybrid'].append(root_mean_squared_error(train_pred, train_y))\n",
    "\n",
    "    test_pred_scaled = (model_estimator_hybrid(X_tensor_test_scaled)).detach().numpy()\n",
    "    test_pred = scaler_target.inverse_transform(test_pred_scaled)\n",
    "    metrics['rmse_test_estimator_hybrid'].append(root_mean_squared_error(test_pred, test_y))"
   ]
  },
  {
   "cell_type": "code",
   "execution_count": 15,
   "metadata": {},
   "outputs": [
    {
     "name": "stdout",
     "output_type": "stream",
     "text": [
      "EstimatorQNN Hybrid: \n",
      "RMSE train: 60.6897\n",
      "RMSE test: 60.5922\n",
      "MAPE train: 0.3505\n",
      "MAPE test: 0.3448\n"
     ]
    }
   ],
   "source": [
    "#Evaluate the model\n",
    "model_estimator_hybrid.eval()\n",
    "\n",
    "train_pred_scaled = (model_estimator_hybrid(X_tensor_train_scaled)).detach().numpy()\n",
    "test_pred_scaled = (model_estimator_hybrid(X_tensor_test_scaled)).detach().numpy()\n",
    "\n",
    "train_pred = scaler_target.inverse_transform(train_pred_scaled)\n",
    "test_pred = scaler_target.inverse_transform(test_pred_scaled)\n",
    "\n",
    "\n",
    "metrics_estimator_hybrid = {'rmse_train': root_mean_squared_error(train_pred, train_y),\n",
    "                     'rmse_test': root_mean_squared_error(test_pred, test_y),\n",
    "                     'mape_train': mean_absolute_percentage_error(train_pred, train_y),\n",
    "                     'mape_test': mean_absolute_percentage_error(test_pred, test_y),\n",
    "                    }\n",
    "\n",
    "print('EstimatorQNN Hybrid: ')\n",
    "print(f'RMSE train: { metrics_estimator_hybrid['rmse_train']:.4f}')\n",
    "print(f'RMSE test: { metrics_estimator_hybrid['rmse_test']:.4f}')\n",
    "print(f'MAPE train: { metrics_estimator_hybrid['mape_train']:.4f}')\n",
    "print(f'MAPE test: { metrics_estimator_hybrid['mape_test']:.4f}')"
   ]
  },
  {
   "cell_type": "markdown",
   "metadata": {},
   "source": [
    "## Section 3: Results and Analysis\n",
    "In this section, we evaluate the performance of the different models used in our regression task.\n",
    "\n",
    "Both the purely quantum model and the hybrid quantum-classical model delivered impressive results, with the hybrid quantum-classical model outperforming the baseline SVM on the train and test set. While these findings are encouraging, it's important to note that they may not generalize across all regression problems. Throughout this tutorial, we illustrate that both quantum and hybrid systems can achieve significant outcomes.\n",
    "\n",
    "Additionally, examining the learning curves reveals that the purely quantum model shows signs of overfitting, as evident in the figure below. To address this, strategies such as early stopping, regularization, or data augmentation could be applied to improve model generalization.\n",
    "\n",
    "\n"
   ]
  },
  {
   "cell_type": "code",
   "execution_count": 16,
   "metadata": {},
   "outputs": [
    {
     "name": "stdout",
     "output_type": "stream",
     "text": [
      "RMSE SVM train: 74.4712\n",
      "RMSE estimator QNN train: 69.9893\n",
      "RMSE estimator hybrid train: 60.6897\n",
      "------------------------------\n",
      "RMSE SVM test: 65.2684\n",
      "RMSE estimator QNN test: 65.6515\n",
      "RMSE estimator hybrid test: 60.5922\n"
     ]
    }
   ],
   "source": [
    "\n",
    "print(f'RMSE SVM train: { metrics_svm['rmse_train']:.4f}')\n",
    "print(f'RMSE estimator QNN train: { metrics_estimator['rmse_train']:.4f}')\n",
    "print(f'RMSE estimator hybrid train: { metrics_estimator_hybrid['rmse_train']:.4f}')\n",
    "print('------------------------------')\n",
    "print(f'RMSE SVM test: { metrics_svm['rmse_test']:.4f}')\n",
    "print(f'RMSE estimator QNN test: { metrics_estimator['rmse_test']:.4f}')\n",
    "print(f'RMSE estimator hybrid test: { metrics_estimator_hybrid['rmse_test']:.4f}')\n"
   ]
  },
  {
   "cell_type": "code",
   "execution_count": 17,
   "metadata": {},
   "outputs": [
    {
     "data": {
      "image/png": "[encoded data removed]",
      "text/plain": [
       "<Figure size 768x576 with 2 Axes>"
      ]
     },
     "metadata": {},
     "output_type": "display_data"
    }
   ],
   "source": [
    "metricfig, ax = plt.subplots(2, sharex=True, dpi =120)\n",
    "ax[0].plot(np.arange(len(metrics['rmse_train_estimator'])), metrics['rmse_train_estimator'], label='Train')\n",
    "ax[0].plot(np.arange(len(metrics['rmse_test_estimator'])), metrics['rmse_test_estimator'], label='Test')\n",
    "ax[0].legend(loc=1)\n",
    "ax[0].set_ylabel('RMSE')\n",
    "ax[0].set_title('Estimator QNN')\n",
    "ax[0].set_yscale('log')\n",
    "\n",
    "\n",
    "ax[1].plot(np.arange(len(metrics['rmse_train_estimator_hybrid'])), metrics['rmse_train_estimator_hybrid'], label='Train')\n",
    "ax[1].plot(np.arange(len(metrics['rmse_test_estimator_hybrid'])), metrics['rmse_test_estimator_hybrid'], label='Test')\n",
    "ax[1].legend(loc=1)\n",
    "ax[1].set_ylabel('RMSE')\n",
    "ax[1].set_xlabel('Epochs')\n",
    "ax[1].set_title('Estimator Hybrid')\n",
    "ax[1].set_yscale('log')\n",
    "plt.suptitle('RMSE ', fontsize=14)\n",
    "plt.show()"
   ]
  },
  {
   "cell_type": "markdown",
   "metadata": {},
   "source": [
    "## Future Work\n",
    "\n",
    "Future efforts could focus on hyperparameter tuning to optimise model performance. This includes adjusting the number of neurons, selecting the best ansatz and feature maps, and exploring other parameter settings. In addition, an in-depth analysis of computational costs and run-time performance would provide insight into the practical advantages of quantum regressor compared to classical models, which would help clarify any genuine advantages of quantum systems for regression tasks."
   ]
  }
 ],
 "metadata": {
  "kernelspec": {
   "display_name": "QML_env",
   "language": "python",
   "name": "python3"
  },
  "language_info": {
   "codemirror_mode": {
    "name": "ipython",
    "version": 3
   },
   "file_extension": ".py",
   "mimetype": "text/x-python",
   "name": "python",
   "nbconvert_exporter": "python",
   "pygments_lexer": "ipython3",
   "version": "3.12.0"
  }
 },
 "nbformat": 4,
 "nbformat_minor": 2
}
